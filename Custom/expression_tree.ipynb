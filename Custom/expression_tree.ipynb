{
 "cells": [
  {
   "cell_type": "code",
   "execution_count": 1,
   "metadata": {},
   "outputs": [],
   "source": [
    "class Node:\n",
    " def __init__(self, left_child_index):\n",
    "  self.DataValue = \"\"\n",
    "  self.LeftChild = left_child_index\n",
    "  self.RightChild = -1"
   ]
  },
  {
   "cell_type": "code",
   "execution_count": 28,
   "metadata": {},
   "outputs": [],
   "source": [
    "class ExpTree:\n",
    "    def __init__(self):\n",
    "        self.Tree = list()\n",
    "        for index in range(1, 21):\n",
    "            self.Tree.append(Node(index))\n",
    "        self.Fringe = list()\n",
    "        self.Root = 0\n",
    "        self.NextFreeChild = 0\n",
    "    def IsOperator(self, s):\n",
    "        if '+' in s:\n",
    "            return True\n",
    "        if '-' in s:\n",
    "            return True\n",
    "        if '*' in s:\n",
    "            return True\n",
    "        if '/' in s:\n",
    "            return True\n",
    "        return False\n",
    "    def Insert(self, NewToken):\n",
    "        if self.NextFreeChild == -1: # check if tree is full\n",
    "            return('Tree is Full') # tree is not full, safe to insert new token\n",
    "        if self.NextFreeChild == 0:\n",
    "            self.Tree[self.Root].DataValue = NewToken\n",
    "            self.NextFreeChild = self.Tree[self.Root].LeftChild\n",
    "            self.Tree[self.Root].LeftChild = -1\n",
    "        else:\n",
    "        # insert into tree with existing nodes\n",
    "        # starting with Root\n",
    "            Current = 0 # index of the current node\n",
    "            Previous = -1 # index of previous node\n",
    "            NewNode = self.Tree[self.NextFreeChild] # declare new node\n",
    "            NewNode.DataValue = NewToken  # Finding the node at which the NewNode can be inserted\n",
    "        while Current != -1:\n",
    "            CurrNode = self.Tree[Current]\n",
    "        # check if CurrNode contains an operator\n",
    "            if self.IsOperator(CurrNode.DataValue):\n",
    "                # if LeftChild is empty, insert here\n",
    "                if CurrNode.LeftChild == -1:\n",
    "                    CurrNode.LeftChild = self.NextFreeChild\n",
    "                    self.NextFreeChild = NewNode.LeftChild\n",
    "                    NewNode.LeftChild = -1\n",
    "                    Current = -1\n",
    "                # if RightChild is empty, insert here\n",
    "                elif CurrNode.RightChild == -1:\n",
    "                    CurrNode.RightChild = self.NextFreeChild\n",
    "                    self.NextFreeChild = NewNode.LeftChild\n",
    "                    NewNode.LeftChild = -1\n",
    "                    Current = -1\n",
    "                # if LeftChild is an operator\n",
    "                # traverse LeftChild subtree\n",
    "                elif self.IsOperator(self.Tree[CurrNode.LeftChild].DataValue):\n",
    "                    Previous = Current\n",
    "                    Current = CurrNode.LeftChild\n",
    "                    self.Fringe.append(Previous)\n",
    "                # if RightChild is an operator\n",
    "                # traverse RightChild subtree\n",
    "                elif self.IsOperator(self.Tree[CurrNode.RightChild].DataValue):\n",
    "                    Previous = Current\n",
    "                    Current = CurrNode.RightChild\n",
    "                    self.Fringe.append(Previous)\n",
    "                # traverse right subtree\n",
    "                else:\n",
    "                    Previous = self.Fringe.pop(-1)\n",
    "                    Current = self.Tree[Previous].RightChild\n",
    "            # no place to insert\n",
    "            else:\n",
    "                return \"Cannot be inserted\"\n",
    "    def Display(self):\n",
    "        for index in range(len(self.Tree)):\n",
    "            print(\"Index: \", index, \"DataValue: \",self.Tree[index].DataValue)\n",
    "    def Infix(self, root, arr):\n",
    "        if root.DataValue != \"\":\n",
    "            if self.IsOperator(root.DataValue):\n",
    "                arr.append('(')  \n",
    "        \n",
    "        self.Infix(self.Tree[root.LeftChild], arr)\n",
    "        arr.append(root.DataValue)\n",
    "        self.Infix(self.Tree[root.RightChild], arr)  \n",
    "        if self.IsOperator(root.DataValue):\n",
    "            arr.append(')')\n",
    "    def calculate(self, expression):\n",
    "        def processing(left, stack):\n",
    "            right = stack.pop() # get right number\n",
    "            right = int(right)\n",
    "            operator = stack.pop() # get operator\n",
    "            left = stack.pop() # get left number\n",
    "            left = int(left)  # calculating depending on operator\n",
    "            if '+' in operator:\n",
    "                left += right\n",
    "            elif '-' in operator:\n",
    "                left -= right\n",
    "            elif '*' in operator:\n",
    "                left *= right\n",
    "            elif '/' in operator:\n",
    "                left /= right  \n",
    "            return left, stack \n",
    "        stack = []\n",
    "        count = 0\n",
    "        left = 0 \n",
    "        for char in expression:\n",
    "            stack.append(char)  \n",
    "        if char == ')':   \n",
    "            stack.pop()\n",
    "            left, stack = processing(left, stack)\n",
    "            stack.pop()\n",
    "            stack.append(left)  \n",
    "        if count == len(expression)-1: # last char of expression string   left, stack = processing(left, stack)  count += 1 return left\n",
    "            left, stack = processing(left, stack)\n",
    "        count += 1\n",
    "        return left\n"
   ]
  },
  {
   "cell_type": "code",
   "execution_count": 33,
   "metadata": {},
   "outputs": [
    {
     "name": "stdout",
     "output_type": "stream",
     "text": [
      "0\n"
     ]
    },
    {
     "ename": "ValueError",
     "evalue": "invalid literal for int() with base 10: '+'",
     "output_type": "error",
     "traceback": [
      "\u001b[1;31m---------------------------------------------------------------------------\u001b[0m",
      "\u001b[1;31mValueError\u001b[0m                                Traceback (most recent call last)",
      "\u001b[1;32mc:\\Users\\Alex Anderson\\Programming\\DSIRP-mylocal\\Custom\\expression_tree.ipynb Cell 3\u001b[0m in \u001b[0;36m<cell line: 7>\u001b[1;34m()\u001b[0m\n\u001b[0;32m      <a href='vscode-notebook-cell:/c%3A/Users/Alex%20Anderson/Programming/DSIRP-mylocal/Custom/expression_tree.ipynb#W2sZmlsZQ%3D%3D?line=4'>5</a>\u001b[0m \u001b[39mprint\u001b[39m(expressionTree\u001b[39m.\u001b[39mcalculate(txt_list))\n\u001b[0;32m      <a href='vscode-notebook-cell:/c%3A/Users/Alex%20Anderson/Programming/DSIRP-mylocal/Custom/expression_tree.ipynb#W2sZmlsZQ%3D%3D?line=5'>6</a>\u001b[0m txt_list \u001b[39m=\u001b[39m re\u001b[39m.\u001b[39mfindall(regex_expression, \u001b[39m\"\u001b[39m\u001b[39m2+4\u001b[39m\u001b[39m\"\u001b[39m)\n\u001b[1;32m----> <a href='vscode-notebook-cell:/c%3A/Users/Alex%20Anderson/Programming/DSIRP-mylocal/Custom/expression_tree.ipynb#W2sZmlsZQ%3D%3D?line=6'>7</a>\u001b[0m \u001b[39mprint\u001b[39m(expressionTree\u001b[39m.\u001b[39;49mcalculate(txt_list))\n\u001b[0;32m      <a href='vscode-notebook-cell:/c%3A/Users/Alex%20Anderson/Programming/DSIRP-mylocal/Custom/expression_tree.ipynb#W2sZmlsZQ%3D%3D?line=7'>8</a>\u001b[0m txt_list \u001b[39m=\u001b[39m re\u001b[39m.\u001b[39mfindall(regex_expression, \u001b[39m\"\u001b[39m\u001b[39m(2+4)-1\u001b[39m\u001b[39m\"\u001b[39m)\n\u001b[0;32m      <a href='vscode-notebook-cell:/c%3A/Users/Alex%20Anderson/Programming/DSIRP-mylocal/Custom/expression_tree.ipynb#W2sZmlsZQ%3D%3D?line=8'>9</a>\u001b[0m \u001b[39mprint\u001b[39m(expressionTree\u001b[39m.\u001b[39mcalculate(txt_list))\n",
      "\u001b[1;32mc:\\Users\\Alex Anderson\\Programming\\DSIRP-mylocal\\Custom\\expression_tree.ipynb Cell 3\u001b[0m in \u001b[0;36mExpTree.calculate\u001b[1;34m(self, expression)\u001b[0m\n\u001b[0;32m    <a href='vscode-notebook-cell:/c%3A/Users/Alex%20Anderson/Programming/DSIRP-mylocal/Custom/expression_tree.ipynb#W2sZmlsZQ%3D%3D?line=105'>106</a>\u001b[0m     stack\u001b[39m.\u001b[39mappend(left)  \n\u001b[0;32m    <a href='vscode-notebook-cell:/c%3A/Users/Alex%20Anderson/Programming/DSIRP-mylocal/Custom/expression_tree.ipynb#W2sZmlsZQ%3D%3D?line=106'>107</a>\u001b[0m \u001b[39mif\u001b[39;00m count \u001b[39m==\u001b[39m \u001b[39mlen\u001b[39m(expression)\u001b[39m-\u001b[39m\u001b[39m1\u001b[39m: \u001b[39m# last char of expression string   left, stack = processing(left, stack)  count += 1 return left\u001b[39;00m\n\u001b[1;32m--> <a href='vscode-notebook-cell:/c%3A/Users/Alex%20Anderson/Programming/DSIRP-mylocal/Custom/expression_tree.ipynb#W2sZmlsZQ%3D%3D?line=107'>108</a>\u001b[0m     left, stack \u001b[39m=\u001b[39m processing(left, stack)\n\u001b[0;32m    <a href='vscode-notebook-cell:/c%3A/Users/Alex%20Anderson/Programming/DSIRP-mylocal/Custom/expression_tree.ipynb#W2sZmlsZQ%3D%3D?line=108'>109</a>\u001b[0m count \u001b[39m+\u001b[39m\u001b[39m=\u001b[39m \u001b[39m1\u001b[39m\n\u001b[0;32m    <a href='vscode-notebook-cell:/c%3A/Users/Alex%20Anderson/Programming/DSIRP-mylocal/Custom/expression_tree.ipynb#W2sZmlsZQ%3D%3D?line=109'>110</a>\u001b[0m \u001b[39mreturn\u001b[39;00m left\n",
      "\u001b[1;32mc:\\Users\\Alex Anderson\\Programming\\DSIRP-mylocal\\Custom\\expression_tree.ipynb Cell 3\u001b[0m in \u001b[0;36mExpTree.calculate.<locals>.processing\u001b[1;34m(left, stack)\u001b[0m\n\u001b[0;32m     <a href='vscode-notebook-cell:/c%3A/Users/Alex%20Anderson/Programming/DSIRP-mylocal/Custom/expression_tree.ipynb#W2sZmlsZQ%3D%3D?line=81'>82</a>\u001b[0m \u001b[39mdef\u001b[39;00m \u001b[39mprocessing\u001b[39m(left, stack):\n\u001b[0;32m     <a href='vscode-notebook-cell:/c%3A/Users/Alex%20Anderson/Programming/DSIRP-mylocal/Custom/expression_tree.ipynb#W2sZmlsZQ%3D%3D?line=82'>83</a>\u001b[0m     right \u001b[39m=\u001b[39m stack\u001b[39m.\u001b[39mpop() \u001b[39m# get right number\u001b[39;00m\n\u001b[1;32m---> <a href='vscode-notebook-cell:/c%3A/Users/Alex%20Anderson/Programming/DSIRP-mylocal/Custom/expression_tree.ipynb#W2sZmlsZQ%3D%3D?line=83'>84</a>\u001b[0m     right \u001b[39m=\u001b[39m \u001b[39mint\u001b[39;49m(right)\n\u001b[0;32m     <a href='vscode-notebook-cell:/c%3A/Users/Alex%20Anderson/Programming/DSIRP-mylocal/Custom/expression_tree.ipynb#W2sZmlsZQ%3D%3D?line=84'>85</a>\u001b[0m     operator \u001b[39m=\u001b[39m stack\u001b[39m.\u001b[39mpop() \u001b[39m# get operator\u001b[39;00m\n\u001b[0;32m     <a href='vscode-notebook-cell:/c%3A/Users/Alex%20Anderson/Programming/DSIRP-mylocal/Custom/expression_tree.ipynb#W2sZmlsZQ%3D%3D?line=85'>86</a>\u001b[0m     left \u001b[39m=\u001b[39m stack\u001b[39m.\u001b[39mpop() \u001b[39m# get left number\u001b[39;00m\n",
      "\u001b[1;31mValueError\u001b[0m: invalid literal for int() with base 10: '+'"
     ]
    }
   ],
   "source": [
    "expressionTree = ExpTree()\n",
    "import re\n",
    "regex_expression = \"[\\/\\+\\-\\*\\(\\)]|[0–9][0–9][0–9]|[0–9][0–9]|[0–9]\"\n",
    "txt_list = re.findall(regex_expression, \"(2*(3/1))+4\")\n",
    "print(expressionTree.calculate(txt_list))\n",
    "txt_list = re.findall(regex_expression, \"2+4\")\n",
    "print(expressionTree.calculate(txt_list))\n",
    "txt_list = re.findall(regex_expression, \"(2+4)-1\")\n",
    "print(expressionTree.calculate(txt_list))\n",
    "txt_list = re.findall(regex_expression, \"(10-(2+4)\")\n",
    "print(expressionTree.calculate(txt_list))"
   ]
  },
  {
   "cell_type": "code",
   "execution_count": 30,
   "metadata": {},
   "outputs": [],
   "source": [
    "tree_obj =ExpTree()"
   ]
  },
  {
   "cell_type": "code",
   "execution_count": 36,
   "metadata": {},
   "outputs": [
    {
     "ename": "TypeError",
     "evalue": "calculate() takes 2 positional arguments but 3 were given",
     "output_type": "error",
     "traceback": [
      "\u001b[1;31m---------------------------------------------------------------------------\u001b[0m",
      "\u001b[1;31mTypeError\u001b[0m                                 Traceback (most recent call last)",
      "\u001b[1;32mc:\\Users\\Alex Anderson\\Programming\\DSIRP-mylocal\\Custom\\expression_tree.ipynb Cell 5\u001b[0m in \u001b[0;36m<cell line: 1>\u001b[1;34m()\u001b[0m\n\u001b[1;32m----> <a href='vscode-notebook-cell:/c%3A/Users/Alex%20Anderson/Programming/DSIRP-mylocal/Custom/expression_tree.ipynb#W6sZmlsZQ%3D%3D?line=0'>1</a>\u001b[0m tree_obj\u001b[39m.\u001b[39;49mcalculate(regex_expression, \u001b[39m\"\u001b[39;49m\u001b[39m1+7\u001b[39;49m\u001b[39m\"\u001b[39;49m)\n",
      "\u001b[1;31mTypeError\u001b[0m: calculate() takes 2 positional arguments but 3 were given"
     ]
    }
   ],
   "source": [
    "tree_obj.calculate( \"1+7\")"
   ]
  }
 ],
 "metadata": {
  "kernelspec": {
   "display_name": "Python 3",
   "language": "python",
   "name": "python3"
  },
  "language_info": {
   "codemirror_mode": {
    "name": "ipython",
    "version": 3
   },
   "file_extension": ".py",
   "mimetype": "text/x-python",
   "name": "python",
   "nbconvert_exporter": "python",
   "pygments_lexer": "ipython3",
   "version": "3.9.13"
  },
  "orig_nbformat": 4,
  "vscode": {
   "interpreter": {
    "hash": "c6f2d45e54c67445869e3e5e402adb372c25238d2ca33375cc258f70008761b2"
   }
  }
 },
 "nbformat": 4,
 "nbformat_minor": 2
}
