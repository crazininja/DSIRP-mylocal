{
 "cells": [
  {
   "cell_type": "code",
   "execution_count": 8,
   "metadata": {},
   "outputs": [],
   "source": []
  },
  {
   "cell_type": "code",
   "execution_count": null,
   "metadata": {},
   "outputs": [],
   "source": [
    "def expTree(self, s: str):\n",
    "    \"\"\"\n",
    "    :type s: str\n",
    "    :rtype: Node\n",
    "    \"\"\"\n",
    "    def compute(operands, operators):\n",
    "        right, left = operands.pop(), operands.pop()\n",
    "        operands.append(Node(val=operators.pop(), left=left, right=right))\n",
    "\n",
    "    precedence = {'+':0, '-':0, '*':1, '/':1}\n",
    "    operands, operators, operand = [], [], 0\n",
    "    for i in xrange(len(s)):\n",
    "        if s[i].isdigit():\n",
    "            operand = operand*10 + int(s[i])\n",
    "            if i == len(s)-1 or not s[i+1].isdigit():\n",
    "                operands.append(Node(val=str(operand)))\n",
    "                operand = 0\n",
    "        elif s[i] == '(':\n",
    "            operators.append(s[i])\n",
    "        elif s[i] == ')':\n",
    "            while operators[-1] != '(':\n",
    "                compute(operands, operators)\n",
    "            operators.pop()\n",
    "        elif s[i] in precedence:\n",
    "            while operators and operators[-1] in precedence and \\\n",
    "                    precedence[operators[-1]] >= precedence[s[i]]:\n",
    "                compute(operands, operators)\n",
    "            operators.append(s[i])\n",
    "    while operators:\n",
    "        compute(operands, operators)\n",
    "    return operands[-1]"
   ]
  },
  {
   "cell_type": "code",
   "execution_count": 13,
   "metadata": {},
   "outputs": [
    {
     "ename": "TypeError",
     "evalue": "expTree() missing 1 required positional argument: 's'",
     "output_type": "error",
     "traceback": [
      "\u001b[0;31m---------------------------------------------------------------------------\u001b[0m",
      "\u001b[0;31mTypeError\u001b[0m                                 Traceback (most recent call last)",
      "Cell \u001b[0;32mIn [13], line 1\u001b[0m\n\u001b[0;32m----> 1\u001b[0m exp \u001b[39m=\u001b[39m expTree(\u001b[39m'\u001b[39;49m\u001b[39m1+2+3\u001b[39;49m\u001b[39m'\u001b[39;49m)\n",
      "\u001b[0;31mTypeError\u001b[0m: expTree() missing 1 required positional argument: 's'"
     ]
    }
   ],
   "source": [
    "exp = expTree('1+2+3')"
   ]
  },
  {
   "cell_type": "code",
   "execution_count": 11,
   "metadata": {},
   "outputs": [
    {
     "ename": "TypeError",
     "evalue": "expTree() missing 2 required positional arguments: 'self' and 's'",
     "output_type": "error",
     "traceback": [
      "\u001b[0;31m---------------------------------------------------------------------------\u001b[0m",
      "\u001b[0;31mTypeError\u001b[0m                                 Traceback (most recent call last)",
      "Cell \u001b[0;32mIn [11], line 1\u001b[0m\n\u001b[0;32m----> 1\u001b[0m expTree()\n",
      "\u001b[0;31mTypeError\u001b[0m: expTree() missing 2 required positional arguments: 'self' and 's'"
     ]
    }
   ],
   "source": [
    "expTree()"
   ]
  }
 ],
 "metadata": {
  "kernelspec": {
   "display_name": "Python 3",
   "language": "python",
   "name": "python3"
  },
  "language_info": {
   "codemirror_mode": {
    "name": "ipython",
    "version": 3
   },
   "file_extension": ".py",
   "mimetype": "text/x-python",
   "name": "python",
   "nbconvert_exporter": "python",
   "pygments_lexer": "ipython3",
   "version": "3.10.5"
  },
  "orig_nbformat": 4,
  "vscode": {
   "interpreter": {
    "hash": "aee8b7b246df8f9039afb4144a1f6fd8d2ca17a180786b69acc140d282b71a49"
   }
  }
 },
 "nbformat": 4,
 "nbformat_minor": 2
}
