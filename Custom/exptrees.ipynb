{
 "cells": [
  {
   "cell_type": "code",
   "execution_count": 39,
   "metadata": {},
   "outputs": [],
   "source": [
    "class stack:\n",
    "   def __init__(self):\n",
    "      self.arr = []\n",
    "   def push(self, data):\n",
    "      self.arr.append(data)\n",
    "   def pop(self):\n",
    "      try:\n",
    "         return self.arr.pop(-1)\n",
    "      except:\n",
    "         pass\n",
    "   def top(self):\n",
    "      try:\n",
    "         return self.arr[-1]\n",
    "      except:\n",
    "         pass\n",
    "   def size(self):\n",
    "      return len(self.arr)\n",
    "# node class for expression tree\n",
    "class node:\n",
    "   def __init__(self, data):\n",
    "      self.data = data\n",
    "      self.left = None\n",
    "      self.right = None\n",
    "# expression tree class\n",
    "class exp_tree:\n",
    "   def __init__(self, postfix_exp):\n",
    "      self.exp = postfix_exp\n",
    "      self.root = None\n",
    "      self.createTree(self.exp)\n",
    "   def isOperator(self, char):\n",
    "      optr = [\" \", \"-\", \"*\", \"/\", \"^\"]\n",
    "      if char in optr: # if given char is operator\n",
    "         return True # then return true\n",
    "      return False # else return false\n",
    "   \n",
    "   def __str__(self):\n",
    "      #position is nothing at start\n",
    "      return self.root.return_tree('')\n",
    "      pass\n",
    "   def createTree(self, exp):\n",
    "      s = stack()\n",
    "      # store those operator node whose any child node is NULL\n",
    "      self.root = node(exp[-1])\n",
    "      # last character of postfix expression is always an operator\n",
    "      s.push(self.root)\n",
    "      # travel on rest of the postfix expression\n",
    "      for i in \"\".join(reversed(exp[:-1])):\n",
    "         curr_node = s.top()\n",
    "         if curr_node == None:\n",
    "            continue\n",
    "         if curr_node.right == None:\n",
    "            # if right node of current node is NULL\n",
    "            temp = node(i)\n",
    "            curr_node.right = temp\n",
    "            if self.isOperator(i):\n",
    "               s.push(temp)\n",
    "         elif curr_node.left == None: # if left node of current node is NULL\n",
    "            temp = node(i)\n",
    "            curr_node.left = temp\n",
    "            # if no child node of current node is NULL\n",
    "            s.pop() # pop current from stack\n",
    "            if self.isOperator(i):\n",
    "               s.push(temp)\n",
    "   def inorder(self, head):\n",
    "      # inorder traversal of expression tree\n",
    "      # inorder traversal = > left, root, right\n",
    "      if head.left:\n",
    "         self.inorder(head.left)\n",
    "      print(head.data, end=\" \")\n",
    "      if head.right:\n",
    "         self.inorder(head.right)\n",
    "   def infixExp(self):\n",
    "      # inorder traversal of expression tree give infix expression\n",
    "      self.inorder(self.root)\n",
    "      print()\n",
    "\n",
    "#snagged from TutorialPoint"
   ]
  },
  {
   "cell_type": "code",
   "execution_count": 40,
   "metadata": {},
   "outputs": [],
   "source": [
    "def print2DUtil(root, space):\n",
    " \n",
    "    # Base case\n",
    "    if (root == None):\n",
    "        return\n",
    " \n",
    "    # Increase distance between levels\n",
    "    space += 3\n",
    " \n",
    "    # Process right child first\n",
    "    print2DUtil(root.right, space)\n",
    " \n",
    "    # Print current node after space\n",
    "    # count\n",
    "    print()\n",
    "    for i in range(3, space):\n",
    "        print(end=\" \")\n",
    "    print(root.data)\n",
    " \n",
    "    # Process left child\n",
    "    print2DUtil(root.left, space)\n",
    " \n",
    "# Wrapper over print2DUtil()\n",
    " \n",
    " \n",
    "def print2D(root):\n",
    " \n",
    "    # space=[0]\n",
    "    # Pass initial space count as 0\n",
    "    print2DUtil(root, 0)\n",
    "\n",
    "#snagged from GeeksForGeeks.com"
   ]
  },
  {
   "cell_type": "code",
   "execution_count": 49,
   "metadata": {},
   "outputs": [],
   "source": [
    "test_tree = exp_tree(\"1+2+3+4\")"
   ]
  },
  {
   "cell_type": "code",
   "execution_count": 51,
   "metadata": {},
   "outputs": [
    {
     "name": "stdout",
     "output_type": "stream",
     "text": [
      "\n",
      "   +\n",
      "\n",
      "4\n",
      "\n",
      "   3\n"
     ]
    }
   ],
   "source": [
    "print2D(test_tree.root)"
   ]
  }
 ],
 "metadata": {
  "kernelspec": {
   "display_name": "Python 3",
   "language": "python",
   "name": "python3"
  },
  "language_info": {
   "codemirror_mode": {
    "name": "ipython",
    "version": 3
   },
   "file_extension": ".py",
   "mimetype": "text/x-python",
   "name": "python",
   "nbconvert_exporter": "python",
   "pygments_lexer": "ipython3",
   "version": "3.9.13"
  },
  "orig_nbformat": 4,
  "vscode": {
   "interpreter": {
    "hash": "c6f2d45e54c67445869e3e5e402adb372c25238d2ca33375cc258f70008761b2"
   }
  }
 },
 "nbformat": 4,
 "nbformat_minor": 2
}
