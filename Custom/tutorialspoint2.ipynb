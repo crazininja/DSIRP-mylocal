{
 "cells": [
  {
   "cell_type": "code",
   "execution_count": 1,
   "metadata": {},
   "outputs": [],
   "source": [
    "class stack:\n",
    "   def __init__(self):\n",
    "      self.arr = []\n",
    "   def push(self, data):\n",
    "      self.arr.append(data)\n",
    "   def pop(self):\n",
    "      try:\n",
    "         return self.arr.pop(-1)\n",
    "      except:\n",
    "         return None\n",
    "   def top(self):\n",
    "      try:\n",
    "         return self.arr[-1]\n",
    "      except:\n",
    "         return None\n",
    "   def size(self):\n",
    "      return len(self.arr)\n",
    "\n",
    "   def empty(self):\n",
    "      return len(self.arr) == 0\n",
    "   def peek(self):\n",
    "      if self.empty(): return None \n",
    "      return self.arr[0]\n",
    "\n",
    "\n",
    "# node class for expression tree\n",
    "class node:\n",
    "   def __init__(self, data):\n",
    "      self.data = data\n",
    "      self.left = None\n",
    "      self.right = None\n",
    "   def print_nodes(self):\n",
    "      #preorder\n",
    "      head = self\n",
    "      print(self.data)\n",
    "      if head.right:\n",
    "         self.right.print_nodes()\n",
    "      if head.left:\n",
    "         self.left.print_nodes()\n",
    "   def add_to_arr(self, arr):\n",
    "      head = self\n",
    "      #print(self.data)\n",
    "      arr.append(self.data)\n",
    "      if head.right:\n",
    "         self.right.add_to_arr(arr)\n",
    "      if head.left:\n",
    "         self.left.add_to_arr(arr)\n",
    "# expression tree class\n",
    "class exp_tree:\n",
    "   def __init__(self, postfix_exp):\n",
    "      self.exp = postfix_exp\n",
    "      self.root = None\n",
    "      self.createTree(self.exp)\n",
    "   def isOperator(self, char):\n",
    "      optr = [\" \", \"-\", \"*\", \"/\", \"^\"]\n",
    "      if char in optr: # if given char is operator\n",
    "         return True # then return true\n",
    "      return False # else return false\n",
    "   def createTree(self, exp):\n",
    "      s = stack()\n",
    "      # store those operator node whose any child node is NULL\n",
    "      self.root = node(exp[-1])\n",
    "      # last character of postfix expression is always an operator\n",
    "      s.push(self.root)\n",
    "      # travel on rest of the postfix expression\n",
    "      for i in \"\".join(reversed(exp[:-1])):\n",
    "         curr_node = s.top()\n",
    "         if not curr_node.right:\n",
    "            # if right node of current node is NULL\n",
    "            temp = node(i)\n",
    "            curr_node.right = temp\n",
    "            if self.isOperator(i):\n",
    "               s.push(temp)\n",
    "         else: # if left node of current node is NULL\n",
    "            temp = node(i)\n",
    "            curr_node.left = temp\n",
    "            # if no child node of current node is NULL\n",
    "            s.pop() # pop current from stack\n",
    "            if self.isOperator(i):\n",
    "               s.push(temp)\n",
    "   def inorder(self, head):\n",
    "      # inorder traversal of expression tree\n",
    "      # inorder traversal = > left, root, right\n",
    "      if head.left:\n",
    "         self.inorder(head.left)\n",
    "      print(head.data, end=\" \")\n",
    "      if head.right:\n",
    "         self.inorder(head.right)\n",
    "   def infixExp(self):\n",
    "      # inorder traversal of expression tree give infix expression\n",
    "      self.inorder(self.root)\n",
    "      print()\n"
   ]
  },
  {
   "cell_type": "code",
   "execution_count": 2,
   "metadata": {},
   "outputs": [],
   "source": [
    "#snagged from https://www.tutorialspoint.com/python-program-to-construct-an-expression-tree-of-a-given-expression"
   ]
  },
  {
   "cell_type": "code",
   "execution_count": 3,
   "metadata": {},
   "outputs": [
    {
     "name": "stdout",
     "output_type": "stream",
     "text": [
      "a   b - e * f * g \n"
     ]
    }
   ],
   "source": [
    "postfixExp = \"ab ef*g*-\"\n",
    "et = exp_tree(postfixExp)\n",
    "et.infixExp()"
   ]
  },
  {
   "cell_type": "code",
   "execution_count": 4,
   "metadata": {},
   "outputs": [
    {
     "name": "stdout",
     "output_type": "stream",
     "text": [
      "2 + 3 * 4 \n"
     ]
    }
   ],
   "source": [
    "#2+3*4\n",
    "postfixExp = \"234*+\"\n",
    "et2 = exp_tree(postfixExp)\n",
    "et2.infixExp()"
   ]
  },
  {
   "cell_type": "code",
   "execution_count": 5,
   "metadata": {},
   "outputs": [],
   "source": [
    "#lets try to make one that takes postFIx and INfix\n",
    " #function is written by Jayesh Chandrapal\n",
    "def infix_to_postfix(infix_exp: str):\n",
    "    #establish order of operations/PEDMAS\n",
    "    precedence = {'(':1,'-':2,'+':2,'/':3,'*':3}\n",
    "    postfix = []\n",
    "    operator_stack = stack()\n",
    "\n",
    "    for token in infix_exp:\n",
    "        if token.isdigit():\n",
    "            postfix.append(token)\n",
    "        elif token == \"(\":\n",
    "            operator_stack.push(token)\n",
    "        elif token == \")\":\n",
    "            while True:\n",
    "                op = operator_stack.pop()\n",
    "                if op is None or op == \"(\":\n",
    "                    break\n",
    "                elif not op.isdigit():\n",
    "                    postfix.append(op)\n",
    "        else: #must be operator\n",
    "            if not operator_stack.empty():\n",
    "                op = operator_stack.peek()\n",
    "                #boolean algebra\n",
    "\n",
    "                #is checking while both condition sets is true or the first condition set is true\n",
    "                while not operator_stack.empty() and precedence[op] >= precedence[token] and token.isdigit():\n",
    "                    postfix.append(operator_stack.pop())\n",
    "                    op = operator_stack.peek()\n",
    "\n",
    "            operator_stack.push(token)\n",
    "    while not operator_stack.empty():\n",
    "        postfix.append(operator_stack.pop())\n",
    "        \n",
    "    return postfix\n",
    "\n"
   ]
  },
  {
   "cell_type": "code",
   "execution_count": 6,
   "metadata": {},
   "outputs": [],
   "source": [
    "def infix_to_prefix(infix_exp: str):\n",
    "    #get the size of the infix\n",
    "    infix_size = len(infix_exp)\n",
    "    processed_infix = '' \n",
    "    #process the infix - first step, reverse it \n",
    "    #because we will be putting operators before operands and are reversing the string, we reverse directional operartors such as ( and )\n",
    "    #this means they will be reversed when put into the postfix expression - which is what we want, so we can just reverse the postfix\n",
    "    for char in infix_exp[::-1]:\n",
    "        if char == '(':\n",
    "            processed_infix += ')'\n",
    "            continue\n",
    "        if char == ')':\n",
    "            processed_infix += '('\n",
    "            continue\n",
    "        processed_infix += char\n",
    "    #ready to put into postfix algorithm and revese\n",
    "    return infix_to_postfix(processed_infix)[::-1]"
   ]
  },
  {
   "cell_type": "code",
   "execution_count": 7,
   "metadata": {},
   "outputs": [
    {
     "data": {
      "text/plain": [
       "['4', '3', '4', '+', '+']"
      ]
     },
     "execution_count": 7,
     "metadata": {},
     "output_type": "execute_result"
    }
   ],
   "source": [
    "infix_to_postfix('4+3+4')"
   ]
  },
  {
   "cell_type": "code",
   "execution_count": 49,
   "metadata": {},
   "outputs": [],
   "source": [
    "# expression tree class\n",
    "class infix_exp_tree:\n",
    "   \n",
    "   def __init__(self, infix_exp: str):\n",
    "      self.exp = infix_to_postfix(infix_exp.replace(\" \", \"\"))\n",
    "      self.root = None\n",
    "      self.createTree(self.exp)\n",
    "   def isOperator(self, char):\n",
    "      optr = [\"+\", \"-\", \"*\", \"/\", \"^\"]\n",
    "      if char in optr: # if given char is operator\n",
    "         return True # then return true\n",
    "      return False # else return false\n",
    "   def createTree(self, exp):\n",
    "      s = stack()\n",
    "      # store those operator node whose any child node is NULL\n",
    "      self.root = node(exp[-1])\n",
    "      # last character of postfix expression is always an operator\n",
    "      s.push(self.root)\n",
    "      # travel on rest of the postfix expression\n",
    "      for i in \"\".join(reversed(exp[:-1])):\n",
    "         curr_node = s.top()\n",
    "         if curr_node == None: continue\n",
    "         if not curr_node.right:\n",
    "            # if right node of current node is NULL\n",
    "            temp = node(i)\n",
    "            curr_node.right = temp\n",
    "            if self.isOperator(i):\n",
    "               s.push(temp)\n",
    "         else: # if left node of current node is NULL\n",
    "            temp = node(i)\n",
    "            curr_node.left = temp\n",
    "            # if no child node of current node is NULL\n",
    "            s.pop() # pop current from stack\n",
    "            if self.isOperator(i):\n",
    "               s.push(temp)\n",
    "   def inorder(self, head):\n",
    "      # inorder traversal of expression tree\n",
    "      # inorder traversal = > left, root, right\n",
    "      if head.left:\n",
    "         self.inorder(head.left)\n",
    "      print(head.data, end=\" \")\n",
    "      if head.right:\n",
    "         self.inorder(head.right)\n",
    "   def preorder(self, head):\n",
    "      print(head.data, end=\"\")\n",
    "      if head.left:\n",
    "         self.inorder(head.left)\n",
    "      print(head.data, end=\" \")\n",
    "      if head.right:\n",
    "         self.inorder(head.right)\n",
    "   def postorder(self, head):\n",
    "      if head.left:\n",
    "         self.inorder(head.left)\n",
    "      if head.right:\n",
    "         self.inorder(head.right)\n",
    "      print(head.data, end=\" \")\n",
    "\n",
    "   def infixExp(self):\n",
    "      # inorder traversal of expression tree give infix expression\n",
    "      self.inorder(self.root)\n",
    "    #setup for infix to postfix\n",
    "   def rightPrint(self):\n",
    "      self.root.print_nodes()\n",
    "\n",
    "   def __str__(self):\n",
    "      arr =[]\n",
    "      (self.root.add_to_arr(arr))\n",
    "      string = \"\"\n",
    "      for char in arr:\n",
    "         string += char\n",
    "\n",
    "      return string[::-1]\n",
    "\n",
    "    \n",
    "   \n",
    "   "
   ]
  },
  {
   "cell_type": "code",
   "execution_count": 9,
   "metadata": {},
   "outputs": [],
   "source": [
    "testTree = infix_exp_tree(\"2*(2+3+4)\")"
   ]
  },
  {
   "cell_type": "code",
   "execution_count": 10,
   "metadata": {},
   "outputs": [
    {
     "name": "stdout",
     "output_type": "stream",
     "text": [
      "2 * 2 + 3 + 4 "
     ]
    }
   ],
   "source": [
    "testTree.inorder(testTree.root)\n"
   ]
  },
  {
   "cell_type": "code",
   "execution_count": 11,
   "metadata": {},
   "outputs": [
    {
     "name": "stdout",
     "output_type": "stream",
     "text": [
      "*2 * 2 + 3 + 4 "
     ]
    }
   ],
   "source": [
    "testTree.preorder(testTree.root)"
   ]
  },
  {
   "cell_type": "code",
   "execution_count": 12,
   "metadata": {},
   "outputs": [
    {
     "name": "stdout",
     "output_type": "stream",
     "text": [
      "2 2 + 3 + 4 * "
     ]
    }
   ],
   "source": [
    "testTree.postorder(testTree.root)"
   ]
  },
  {
   "cell_type": "code",
   "execution_count": 13,
   "metadata": {},
   "outputs": [
    {
     "name": "stdout",
     "output_type": "stream",
     "text": [
      "2234++*\n"
     ]
    }
   ],
   "source": [
    "print(testTree)"
   ]
  },
  {
   "cell_type": "code",
   "execution_count": 14,
   "metadata": {},
   "outputs": [
    {
     "name": "stdout",
     "output_type": "stream",
     "text": [
      "2234++*\n"
     ]
    }
   ],
   "source": [
    "print(testTree)"
   ]
  },
  {
   "cell_type": "code",
   "execution_count": 15,
   "metadata": {},
   "outputs": [
    {
     "name": "stdout",
     "output_type": "stream",
     "text": [
      "2234++*\n"
     ]
    }
   ],
   "source": [
    "print(testTree)"
   ]
  },
  {
   "cell_type": "code",
   "execution_count": 16,
   "metadata": {},
   "outputs": [
    {
     "data": {
      "text/plain": [
       "['2', '2', '3', '+', '+']"
      ]
     },
     "execution_count": 16,
     "metadata": {},
     "output_type": "execute_result"
    }
   ],
   "source": [
    "infix_to_postfix(\"2+2+3\")"
   ]
  },
  {
   "cell_type": "code",
   "execution_count": 17,
   "metadata": {},
   "outputs": [
    {
     "name": "stdout",
     "output_type": "stream",
     "text": [
      "*\n",
      "+\n",
      "+\n",
      "4\n",
      "3\n",
      "2\n",
      "2\n"
     ]
    }
   ],
   "source": [
    "testTree.rightPrint()"
   ]
  },
  {
   "cell_type": "code",
   "execution_count": 18,
   "metadata": {},
   "outputs": [
    {
     "name": "stdout",
     "output_type": "stream",
     "text": [
      "2 * 2 + 3 + 4 "
     ]
    }
   ],
   "source": [
    "testTree.infixExp()\n"
   ]
  },
  {
   "cell_type": "code",
   "execution_count": 19,
   "metadata": {},
   "outputs": [],
   "source": [
    "secondTestTree = infix_exp_tree(\"(2+3)*2\")"
   ]
  },
  {
   "cell_type": "code",
   "execution_count": 20,
   "metadata": {},
   "outputs": [
    {
     "name": "stdout",
     "output_type": "stream",
     "text": [
      "*\n",
      "2\n",
      "+\n",
      "3\n",
      "2\n"
     ]
    }
   ],
   "source": [
    "secondTestTree.rightPrint()"
   ]
  },
  {
   "cell_type": "code",
   "execution_count": 21,
   "metadata": {},
   "outputs": [
    {
     "name": "stdout",
     "output_type": "stream",
     "text": [
      "23+2*\n"
     ]
    }
   ],
   "source": [
    "print(secondTestTree)"
   ]
  },
  {
   "cell_type": "code",
   "execution_count": 22,
   "metadata": {},
   "outputs": [
    {
     "data": {
      "text/plain": [
       "['2', '3', '*']"
      ]
     },
     "execution_count": 22,
     "metadata": {},
     "output_type": "execute_result"
    }
   ],
   "source": [
    "infix_to_postfix('2*3')"
   ]
  },
  {
   "cell_type": "code",
   "execution_count": 23,
   "metadata": {},
   "outputs": [
    {
     "data": {
      "text/plain": [
       "['*', '2', '3']"
      ]
     },
     "execution_count": 23,
     "metadata": {},
     "output_type": "execute_result"
    }
   ],
   "source": [
    "infix_to_prefix('2*3')"
   ]
  },
  {
   "cell_type": "code",
   "execution_count": 24,
   "metadata": {},
   "outputs": [
    {
     "data": {
      "text/plain": [
       "['2', '3', '+', '4', '*']"
      ]
     },
     "execution_count": 24,
     "metadata": {},
     "output_type": "execute_result"
    }
   ],
   "source": [
    "infix_to_postfix('(2+3)*4')"
   ]
  },
  {
   "cell_type": "code",
   "execution_count": 25,
   "metadata": {},
   "outputs": [
    {
     "data": {
      "text/plain": [
       "['*', '+', '2', '3', '4']"
      ]
     },
     "execution_count": 25,
     "metadata": {},
     "output_type": "execute_result"
    }
   ],
   "source": [
    "infix_to_prefix('(2+3)*4')"
   ]
  },
  {
   "cell_type": "code",
   "execution_count": 26,
   "metadata": {},
   "outputs": [
    {
     "name": "stdout",
     "output_type": "stream",
     "text": [
      "*\n",
      "2\n",
      "+\n",
      "3\n",
      "2\n"
     ]
    }
   ],
   "source": [
    "secondTestTree.rightPrint()"
   ]
  },
  {
   "cell_type": "code",
   "execution_count": 73,
   "metadata": {},
   "outputs": [],
   "source": [
    "ordertestTree = infix_exp_tree(\"2+3 *5\")"
   ]
  },
  {
   "cell_type": "code",
   "execution_count": 74,
   "metadata": {},
   "outputs": [
    {
     "name": "stdout",
     "output_type": "stream",
     "text": [
      "2 + 3 * 5 "
     ]
    }
   ],
   "source": [
    "ordertestTree.inorder(ordertestTree.root)"
   ]
  },
  {
   "cell_type": "code",
   "execution_count": 75,
   "metadata": {},
   "outputs": [
    {
     "name": "stdout",
     "output_type": "stream",
     "text": [
      "+2 + 3 * 5 "
     ]
    }
   ],
   "source": [
    "ordertestTree.preorder(ordertestTree.root)"
   ]
  },
  {
   "cell_type": "code",
   "execution_count": 76,
   "metadata": {},
   "outputs": [
    {
     "ename": "AttributeError",
     "evalue": "'infix_exp_tree' object has no attribute 'left'",
     "output_type": "error",
     "traceback": [
      "\u001b[1;31m---------------------------------------------------------------------------\u001b[0m",
      "\u001b[1;31mAttributeError\u001b[0m                            Traceback (most recent call last)",
      "\u001b[1;32mc:\\Users\\Alex Anderson\\Programming\\DSIRP-mylocal\\Custom\\tutorialspoint2.ipynb Cell 30\u001b[0m in \u001b[0;36m<cell line: 1>\u001b[1;34m()\u001b[0m\n\u001b[1;32m----> <a href='vscode-notebook-cell:/c%3A/Users/Alex%20Anderson/Programming/DSIRP-mylocal/Custom/tutorialspoint2.ipynb#X45sZmlsZQ%3D%3D?line=0'>1</a>\u001b[0m ordertestTree\u001b[39m.\u001b[39;49mpostorder(ordertestTree)\n",
      "\u001b[1;32mc:\\Users\\Alex Anderson\\Programming\\DSIRP-mylocal\\Custom\\tutorialspoint2.ipynb Cell 30\u001b[0m in \u001b[0;36minfix_exp_tree.postorder\u001b[1;34m(self, head)\u001b[0m\n\u001b[0;32m     <a href='vscode-notebook-cell:/c%3A/Users/Alex%20Anderson/Programming/DSIRP-mylocal/Custom/tutorialspoint2.ipynb#X45sZmlsZQ%3D%3D?line=50'>51</a>\u001b[0m \u001b[39mdef\u001b[39;00m \u001b[39mpostorder\u001b[39m(\u001b[39mself\u001b[39m, head):\n\u001b[1;32m---> <a href='vscode-notebook-cell:/c%3A/Users/Alex%20Anderson/Programming/DSIRP-mylocal/Custom/tutorialspoint2.ipynb#X45sZmlsZQ%3D%3D?line=51'>52</a>\u001b[0m    \u001b[39mif\u001b[39;00m head\u001b[39m.\u001b[39;49mleft:\n\u001b[0;32m     <a href='vscode-notebook-cell:/c%3A/Users/Alex%20Anderson/Programming/DSIRP-mylocal/Custom/tutorialspoint2.ipynb#X45sZmlsZQ%3D%3D?line=52'>53</a>\u001b[0m       \u001b[39mself\u001b[39m\u001b[39m.\u001b[39minorder(head\u001b[39m.\u001b[39mleft)\n\u001b[0;32m     <a href='vscode-notebook-cell:/c%3A/Users/Alex%20Anderson/Programming/DSIRP-mylocal/Custom/tutorialspoint2.ipynb#X45sZmlsZQ%3D%3D?line=53'>54</a>\u001b[0m    \u001b[39mif\u001b[39;00m head\u001b[39m.\u001b[39mright:\n",
      "\u001b[1;31mAttributeError\u001b[0m: 'infix_exp_tree' object has no attribute 'left'"
     ]
    }
   ],
   "source": [
    "ordertestTree.postorder(ordertestTree.root)"
   ]
  }
 ],
 "metadata": {
  "kernelspec": {
   "display_name": "Python 3",
   "language": "python",
   "name": "python3"
  },
  "language_info": {
   "codemirror_mode": {
    "name": "ipython",
    "version": 3
   },
   "file_extension": ".py",
   "mimetype": "text/x-python",
   "name": "python",
   "nbconvert_exporter": "python",
   "pygments_lexer": "ipython3",
   "version": "3.9.13"
  },
  "orig_nbformat": 4,
  "vscode": {
   "interpreter": {
    "hash": "c6f2d45e54c67445869e3e5e402adb372c25238d2ca33375cc258f70008761b2"
   }
  }
 },
 "nbformat": 4,
 "nbformat_minor": 2
}
