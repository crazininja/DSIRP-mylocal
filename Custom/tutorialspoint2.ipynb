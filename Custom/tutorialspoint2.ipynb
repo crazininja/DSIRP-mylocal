{
 "cells": [
  {
   "cell_type": "code",
   "execution_count": 1,
   "metadata": {},
   "outputs": [],
   "source": [
    "class stack:\n",
    "   def __init__(self):\n",
    "      self.arr = []\n",
    "   def push(self, data):\n",
    "      self.arr.append(data)\n",
    "   def pop(self):\n",
    "      try:\n",
    "         return self.arr.pop(-1)\n",
    "      except:\n",
    "         pass\n",
    "   def top(self):\n",
    "      try:\n",
    "         return self.arr[-1]\n",
    "      except:\n",
    "         pass\n",
    "   def size(self):\n",
    "      return len(self.arr)\n",
    "# node class for expression tree\n",
    "class node:\n",
    "   def __init__(self, data):\n",
    "      self.data = data\n",
    "      self.left = None\n",
    "      self.right = None\n",
    "# expression tree class\n",
    "class exp_tree:\n",
    "   def __init__(self, postfix_exp):\n",
    "      self.exp = postfix_exp\n",
    "      self.root = None\n",
    "      self.createTree(self.exp)\n",
    "   def isOperator(self, char):\n",
    "      optr = [\" \", \"-\", \"*\", \"/\", \"^\"]\n",
    "      if char in optr: # if given char is operator\n",
    "         return True # then return true\n",
    "      return False # else return false\n",
    "   def createTree(self, exp):\n",
    "      s = stack()\n",
    "      # store those operator node whose any child node is NULL\n",
    "      self.root = node(exp[-1])\n",
    "      # last character of postfix expression is always an operator\n",
    "      s.push(self.root)\n",
    "      # travel on rest of the postfix expression\n",
    "      for i in \"\".join(reversed(exp[:-1])):\n",
    "         curr_node = s.top()\n",
    "         if not curr_node.right:\n",
    "            # if right node of current node is NULL\n",
    "            temp = node(i)\n",
    "            curr_node.right = temp\n",
    "            if self.isOperator(i):\n",
    "               s.push(temp)\n",
    "         else: # if left node of current node is NULL\n",
    "            temp = node(i)\n",
    "            curr_node.left = temp\n",
    "            # if no child node of current node is NULL\n",
    "            s.pop() # pop current from stack\n",
    "            if self.isOperator(i):\n",
    "               s.push(temp)\n",
    "   def inorder(self, head):\n",
    "      # inorder traversal of expression tree\n",
    "      # inorder traversal = > left, root, right\n",
    "      if head.left:\n",
    "         self.inorder(head.left)\n",
    "      print(head.data, end=\" \")\n",
    "      if head.right:\n",
    "         self.inorder(head.right)\n",
    "   def infixExp(self):\n",
    "      # inorder traversal of expression tree give infix expression\n",
    "      self.inorder(self.root)\n",
    "      print()"
   ]
  },
  {
   "cell_type": "code",
   "execution_count": 2,
   "metadata": {},
   "outputs": [],
   "source": [
    "#snagged from https://www.tutorialspoint.com/python-program-to-construct-an-expression-tree-of-a-given-expression"
   ]
  },
  {
   "cell_type": "code",
   "execution_count": 3,
   "metadata": {},
   "outputs": [
    {
     "name": "stdout",
     "output_type": "stream",
     "text": [
      "a   b - e * f * g \n"
     ]
    }
   ],
   "source": [
    "postfixExp = \"ab ef*g*-\"\n",
    "et = exp_tree(postfixExp)\n",
    "et.infixExp()"
   ]
  },
  {
   "cell_type": "code",
   "execution_count": null,
   "metadata": {},
   "outputs": [],
   "source": []
  }
 ],
 "metadata": {
  "kernelspec": {
   "display_name": "Python 3",
   "language": "python",
   "name": "python3"
  },
  "language_info": {
   "codemirror_mode": {
    "name": "ipython",
    "version": 3
   },
   "file_extension": ".py",
   "mimetype": "text/x-python",
   "name": "python",
   "nbconvert_exporter": "python",
   "pygments_lexer": "ipython3",
   "version": "3.10.5"
  },
  "orig_nbformat": 4,
  "vscode": {
   "interpreter": {
    "hash": "aee8b7b246df8f9039afb4144a1f6fd8d2ca17a180786b69acc140d282b71a49"
   }
  }
 },
 "nbformat": 4,
 "nbformat_minor": 2
}
