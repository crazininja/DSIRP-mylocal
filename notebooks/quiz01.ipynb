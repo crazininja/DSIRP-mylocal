{
 "cells": [
  {
   "cell_type": "markdown",
   "metadata": {},
   "source": [
    "# Quiz 1\n",
    "\n",
    "BEFORE YOU START THIS QUIZ:\n",
    "\n",
    "1. Click on \"Copy to Drive\" to make a copy of the quiz,\n",
    "\n",
    "2. Click on \"Share\",\n",
    "    \n",
    "3. Click on \"Change\" and select \"Anyone with this link can edit\"\n",
    "    \n",
    "4. Click \"Copy link\" and\n",
    "\n",
    "5. Paste the link into [this Canvas assignment](https://canvas.olin.edu/courses/313/assignments/4866). \n",
    "\n",
    "Copyright 2021 Allen Downey, [MIT License](http://opensource.org/licenses/MIT)"
   ]
  },
  {
   "cell_type": "markdown",
   "metadata": {},
   "source": [
    "## Setup"
   ]
  },
  {
   "cell_type": "markdown",
   "metadata": {},
   "source": [
    "The following cells download a file that contains a list of words, reads the words, and stores them in a `set`."
   ]
  },
  {
   "cell_type": "code",
   "execution_count": 2,
   "metadata": {},
   "outputs": [],
   "source": [
    "from os.path import basename, exists\n",
    "\n",
    "def download(url):\n",
    "    filename = basename(url)\n",
    "    if not exists(filename):\n",
    "        from urllib.request import urlretrieve\n",
    "        local, _ = urlretrieve(url, filename)\n",
    "        print('Downloaded ' + local)\n",
    "    \n",
    "download('https://github.com/AllenDowney/DSIRP/raw/main/american-english')"
   ]
  },
  {
   "cell_type": "code",
   "execution_count": 3,
   "metadata": {},
   "outputs": [],
   "source": [
    "def read_words(filename):\n",
    "    \"\"\"Read lines from a file and split them into words.\"\"\"\n",
    "    res = set()\n",
    "    for line in open(filename):\n",
    "        for word in line.split():\n",
    "            res.add(word.strip().lower())\n",
    "    return res"
   ]
  },
  {
   "cell_type": "code",
   "execution_count": 4,
   "metadata": {},
   "outputs": [
    {
     "data": {
      "text/plain": [
       "100781"
      ]
     },
     "execution_count": 4,
     "metadata": {},
     "output_type": "execute_result"
    }
   ],
   "source": [
    "word_list = read_words('american-english')\n",
    "len(word_list)"
   ]
  },
  {
   "cell_type": "markdown",
   "metadata": {},
   "source": [
    "## Question 1\n",
    "\n",
    "The following function takes a string and returns `True` if the letters in the string appear in alphabetical order."
   ]
  },
  {
   "cell_type": "code",
   "execution_count": 5,
   "metadata": {},
   "outputs": [],
   "source": [
    "def is_alphabetical(word):\n",
    "    return list(word) == sorted(word)"
   ]
  },
  {
   "cell_type": "code",
   "execution_count": 6,
   "metadata": {},
   "outputs": [
    {
     "data": {
      "text/plain": [
       "True"
      ]
     },
     "execution_count": 6,
     "metadata": {},
     "output_type": "execute_result"
    }
   ],
   "source": [
    "is_alphabetical('almost') # True"
   ]
  },
  {
   "cell_type": "code",
   "execution_count": 7,
   "metadata": {},
   "outputs": [
    {
     "data": {
      "text/plain": [
       "False"
      ]
     },
     "execution_count": 7,
     "metadata": {},
     "output_type": "execute_result"
    }
   ],
   "source": [
    "is_alphabetical('alphabetical') # False"
   ]
  },
  {
   "cell_type": "markdown",
   "metadata": {},
   "source": [
    "Make a new list called `alpha_words` that contains only the words in `word_list` that are alphabetical, and display the length of the list."
   ]
  },
  {
   "cell_type": "code",
   "execution_count": 15,
   "metadata": {},
   "outputs": [
    {
     "data": {
      "text/plain": [
       "['emmy',\n",
       " 'nor',\n",
       " 'ditty',\n",
       " 'joy',\n",
       " 'blot',\n",
       " 'ahoy',\n",
       " 'hit',\n",
       " 'loot',\n",
       " 'fr',\n",
       " 'dory',\n",
       " 'boss',\n",
       " 'low',\n",
       " 'al',\n",
       " 'chimu',\n",
       " 'errs',\n",
       " 'fops',\n",
       " 'amos',\n",
       " 'ins',\n",
       " 'eel',\n",
       " 'gins',\n",
       " 'bees',\n",
       " 'abort',\n",
       " 'cow',\n",
       " 'films',\n",
       " 'denny',\n",
       " 'blow',\n",
       " 'gist',\n",
       " 'goop',\n",
       " 'dims',\n",
       " 'boy',\n",
       " 'abuzz',\n",
       " 'abbey',\n",
       " 'dint',\n",
       " 'lott',\n",
       " 'is',\n",
       " 'belt',\n",
       " 'booty',\n",
       " 'bins',\n",
       " 'abby',\n",
       " 'chinos',\n",
       " 'girt',\n",
       " 'apps',\n",
       " 'door',\n",
       " 'np',\n",
       " 'p',\n",
       " 'aft',\n",
       " 'mort',\n",
       " 'd',\n",
       " 'bp',\n",
       " 'dills',\n",
       " 'ks',\n",
       " 'egos',\n",
       " 'abbott',\n",
       " 'alps',\n",
       " 'lorry',\n",
       " 'adept',\n",
       " 'goo',\n",
       " 'cd',\n",
       " 'dry',\n",
       " 'cell',\n",
       " 'dips',\n",
       " 'boru',\n",
       " 'apt',\n",
       " 'chimps',\n",
       " 'fill',\n",
       " 'ego',\n",
       " 'moos',\n",
       " 'dens',\n",
       " 'not',\n",
       " 'best',\n",
       " 'e',\n",
       " 'amy',\n",
       " 'din',\n",
       " 'lop',\n",
       " 'beefy',\n",
       " 'knotty',\n",
       " 'coos',\n",
       " 'ells',\n",
       " 'flory',\n",
       " 'hops',\n",
       " 'chop',\n",
       " 'elm',\n",
       " 'cellos',\n",
       " 'eloy',\n",
       " 'jo',\n",
       " 'afoot',\n",
       " 'cot',\n",
       " 'err',\n",
       " 'bert',\n",
       " 'eggo',\n",
       " 'by',\n",
       " 'flo',\n",
       " 'glory',\n",
       " 'choppy',\n",
       " 'x',\n",
       " 'clops',\n",
       " 'oz',\n",
       " 'bill',\n",
       " 'ace',\n",
       " 'do',\n",
       " 'benny',\n",
       " 'css',\n",
       " 'as',\n",
       " 'deers',\n",
       " 'bellow',\n",
       " 'beg',\n",
       " 'dino',\n",
       " 'got',\n",
       " 'amp',\n",
       " 'es',\n",
       " 'deeps',\n",
       " 'di',\n",
       " 'flops',\n",
       " 'dirt',\n",
       " 'jot',\n",
       " 'egg',\n",
       " 'moors',\n",
       " 'hilly',\n",
       " 'billy',\n",
       " 'aegis',\n",
       " 'moot',\n",
       " 'bmw',\n",
       " 'eggs',\n",
       " 'opt',\n",
       " 'glow',\n",
       " 'dirty',\n",
       " 'chin',\n",
       " 'gin',\n",
       " 'lost',\n",
       " 'cl',\n",
       " 'fry',\n",
       " 'hoop',\n",
       " 'betty',\n",
       " 'film',\n",
       " 'a',\n",
       " 'hims',\n",
       " 'chills',\n",
       " 'm',\n",
       " 'loops',\n",
       " 'deem',\n",
       " 'gs',\n",
       " 'boors',\n",
       " 'hip',\n",
       " 'begs',\n",
       " 'allow',\n",
       " 'demos',\n",
       " 'fizz',\n",
       " 'tux',\n",
       " 'mop',\n",
       " 'alms',\n",
       " 'blu',\n",
       " 'accost',\n",
       " 'depp',\n",
       " 'den',\n",
       " 'cosy',\n",
       " 'enos',\n",
       " 'dow',\n",
       " 'ghost',\n",
       " 'cent',\n",
       " 'ado',\n",
       " 'v',\n",
       " 'ax',\n",
       " 'aces',\n",
       " 'empty',\n",
       " 'dee',\n",
       " 'moss',\n",
       " 'dells',\n",
       " 'moor',\n",
       " 'abet',\n",
       " 'dew',\n",
       " 'floors',\n",
       " 'ag',\n",
       " 'filly',\n",
       " 'hips',\n",
       " 'imps',\n",
       " 'deimos',\n",
       " 'deft',\n",
       " 'ass',\n",
       " 'beep',\n",
       " 'cloy',\n",
       " 'mu',\n",
       " 'for',\n",
       " 'dos',\n",
       " 'oort',\n",
       " 'boot',\n",
       " 'deems',\n",
       " 'flux',\n",
       " 'filmy',\n",
       " 'dot',\n",
       " 'aim',\n",
       " 'ah',\n",
       " 'city',\n",
       " 'coop',\n",
       " 'ginny',\n",
       " 'host',\n",
       " 'fist',\n",
       " 'chi',\n",
       " 'foot',\n",
       " 'horsy',\n",
       " 'chill',\n",
       " 'dilly',\n",
       " 'most',\n",
       " 'q',\n",
       " 'belly',\n",
       " 'diss',\n",
       " 'allot',\n",
       " 'no',\n",
       " 'ginsu',\n",
       " 'affix',\n",
       " 'defy',\n",
       " 'mow',\n",
       " 'now',\n",
       " 'nosy',\n",
       " 'dip',\n",
       " 'hos',\n",
       " 'cs',\n",
       " 'chilly',\n",
       " 'loss',\n",
       " 'effort',\n",
       " 'b',\n",
       " 'fins',\n",
       " 'cells',\n",
       " 'hi',\n",
       " 'his',\n",
       " 'foxy',\n",
       " 'loopy',\n",
       " 'ably',\n",
       " 'buy',\n",
       " 'bop',\n",
       " 'deity',\n",
       " 'adder',\n",
       " 'hiss',\n",
       " 'cops',\n",
       " 'begot',\n",
       " 'fit',\n",
       " 'emu',\n",
       " 'dis',\n",
       " 'fop',\n",
       " 'c',\n",
       " 'clop',\n",
       " 'or',\n",
       " 'ann',\n",
       " 'accept',\n",
       " 'demo',\n",
       " 'dopy',\n",
       " 'coot',\n",
       " 'adders',\n",
       " 'ills',\n",
       " 'how',\n",
       " 'chops',\n",
       " 'airy',\n",
       " 'abbot',\n",
       " 'egis',\n",
       " 'ls',\n",
       " 'ammo',\n",
       " 'ox',\n",
       " 'floss',\n",
       " 'chow',\n",
       " 'ainu',\n",
       " 'arty',\n",
       " 'billow',\n",
       " 'deny',\n",
       " 'dotty',\n",
       " 'glossy',\n",
       " 'gil',\n",
       " 'fly',\n",
       " 'bet',\n",
       " 'ow',\n",
       " 'psst',\n",
       " 'eery',\n",
       " 'n',\n",
       " 'pt',\n",
       " 'emo',\n",
       " 'lot',\n",
       " 'fix',\n",
       " 'brr',\n",
       " 'ads',\n",
       " 'boor',\n",
       " 'emos',\n",
       " 'amps',\n",
       " 'los',\n",
       " 'inn',\n",
       " 'o',\n",
       " 'first',\n",
       " 'apr',\n",
       " 'f',\n",
       " 'abhor',\n",
       " 'ally',\n",
       " 'ails',\n",
       " 'boost',\n",
       " 'gory',\n",
       " 'finn',\n",
       " 'ail',\n",
       " 'biopsy',\n",
       " 'moo',\n",
       " 'hoops',\n",
       " 'dell',\n",
       " 'bbb',\n",
       " 'be',\n",
       " 'bops',\n",
       " 'aims',\n",
       " 'mossy',\n",
       " 'floppy',\n",
       " 'boo',\n",
       " 'any',\n",
       " 'bee',\n",
       " 'mops',\n",
       " 'oops',\n",
       " 'air',\n",
       " 'dewy',\n",
       " 'achy',\n",
       " 's',\n",
       " 'gill',\n",
       " 'beer',\n",
       " 'lops',\n",
       " 'dim',\n",
       " 'ill',\n",
       " 'begins',\n",
       " 'bent',\n",
       " 'forty',\n",
       " 'it',\n",
       " 'airs',\n",
       " 'go',\n",
       " 'ac',\n",
       " 'flow',\n",
       " 'mo',\n",
       " 'dins',\n",
       " 'been',\n",
       " 'coops',\n",
       " 'abbé',\n",
       " 'ivy',\n",
       " 'all',\n",
       " 'dill',\n",
       " 'fin',\n",
       " 'celt',\n",
       " 'aden',\n",
       " 'ex',\n",
       " 'eels',\n",
       " 'doors',\n",
       " 'ci',\n",
       " 'ay',\n",
       " 'ems',\n",
       " 'k',\n",
       " 'l',\n",
       " 'bess',\n",
       " 'kr',\n",
       " 'adz',\n",
       " 'u',\n",
       " 'ms',\n",
       " 'guy',\n",
       " 'ad',\n",
       " 'abbess',\n",
       " 'chins',\n",
       " 'deep',\n",
       " 'nu',\n",
       " 'cr',\n",
       " 'os',\n",
       " 'j',\n",
       " 'hint',\n",
       " 'bell',\n",
       " 'adopt',\n",
       " 'au',\n",
       " 'fuzz',\n",
       " 'coy',\n",
       " 'aery',\n",
       " 'cost',\n",
       " 'i',\n",
       " 'ho',\n",
       " 'hill',\n",
       " 'inns',\n",
       " 'fox',\n",
       " 'g',\n",
       " 'him',\n",
       " 'deer',\n",
       " 'knox',\n",
       " 'alloy',\n",
       " 'envy',\n",
       " 'rs',\n",
       " 'crux',\n",
       " 'biko',\n",
       " 'luz',\n",
       " 'chimp',\n",
       " 'dix',\n",
       " 'chou',\n",
       " 'abe',\n",
       " 'sty',\n",
       " 'lou',\n",
       " 'annoy',\n",
       " 'cry',\n",
       " 'r',\n",
       " 'chino',\n",
       " 'chit',\n",
       " 'add',\n",
       " 'coors',\n",
       " 'know',\n",
       " 'am',\n",
       " 'bevy',\n",
       " 'glop',\n",
       " 'gipsy',\n",
       " 'mn',\n",
       " 'fir',\n",
       " 't',\n",
       " 'knot',\n",
       " 'ell',\n",
       " 'below',\n",
       " 'beef',\n",
       " 'gimpy',\n",
       " 'acrux',\n",
       " 'boos',\n",
       " 'cox',\n",
       " 'cello',\n",
       " 'kory',\n",
       " 'orr',\n",
       " 'h',\n",
       " 'bow',\n",
       " 'flu',\n",
       " 'cop',\n",
       " 'hills',\n",
       " 'benz',\n",
       " 'bills',\n",
       " 'befit',\n",
       " 'gloss',\n",
       " 'chintz',\n",
       " 'imp',\n",
       " 'access',\n",
       " 'hoot',\n",
       " 'an',\n",
       " 'beers',\n",
       " 'elmo',\n",
       " 'clot',\n",
       " 'adds',\n",
       " 'bossy',\n",
       " 'hippy',\n",
       " 'em',\n",
       " 'beet',\n",
       " 'almost',\n",
       " 'elms',\n",
       " 'bin',\n",
       " 'pry',\n",
       " 'accent',\n",
       " 'choosy',\n",
       " 'fort',\n",
       " 'achoo',\n",
       " 'lox',\n",
       " 'cory',\n",
       " 'lo',\n",
       " 'ios',\n",
       " 'flop',\n",
       " 'stu',\n",
       " 'berry',\n",
       " 'dent',\n",
       " 'abhors',\n",
       " 'firs',\n",
       " 'buzz',\n",
       " 'bit',\n",
       " 'begin',\n",
       " 'kw',\n",
       " 'aglow',\n",
       " 'bells',\n",
       " 'ant',\n",
       " 'divvy',\n",
       " 'box',\n",
       " 'ty',\n",
       " 'gilt',\n",
       " 'art',\n",
       " 'z',\n",
       " 'eh',\n",
       " 'y',\n",
       " 'gills',\n",
       " 'copy',\n",
       " 'billowy',\n",
       " 'at',\n",
       " 'pu',\n",
       " 'dior',\n",
       " 'coo',\n",
       " 'hop',\n",
       " 'my',\n",
       " 'chips',\n",
       " 'gino',\n",
       " 'fills',\n",
       " 'cu',\n",
       " 'chip',\n",
       " 'emory',\n",
       " 'gnu',\n",
       " 'hot',\n",
       " 'floor',\n",
       " 'btu',\n",
       " 'beefs',\n",
       " 'beeps',\n",
       " 'finny',\n",
       " 'ben',\n",
       " 'loop',\n",
       " 'in',\n",
       " 'hilt',\n",
       " 'abel',\n",
       " 'finns',\n",
       " 'w',\n",
       " 'mott',\n",
       " 'act',\n",
       " 'cruz',\n",
       " 'hz',\n",
       " 'ago']"
      ]
     },
     "execution_count": 15,
     "metadata": {},
     "output_type": "execute_result"
    }
   ],
   "source": [
    "alpha_words = [a_word for a_word in word_list if is_alphabetical(a_word)]\n",
    "len(alpha_words)\n",
    "alpha_words"
   ]
  },
  {
   "cell_type": "code",
   "execution_count": null,
   "metadata": {},
   "outputs": [],
   "source": []
  },
  {
   "cell_type": "markdown",
   "metadata": {},
   "source": [
    "## Question 2\n",
    "\n",
    "Find and display the longest word in `alpha_words`.\n",
    "If there is more than one word with the maximal length, you can display any one of them (but only one).\n",
    "\n",
    "NOTE: You can write code for this question even if your answer to the previous question doesn't work. I'll grade the code, not the output."
   ]
  },
  {
   "cell_type": "code",
   "execution_count": null,
   "metadata": {},
   "outputs": [],
   "source": []
  },
  {
   "cell_type": "code",
   "execution_count": null,
   "metadata": {},
   "outputs": [],
   "source": []
  },
  {
   "cell_type": "markdown",
   "metadata": {},
   "source": [
    "## Question 3\n",
    "\n",
    "Write a function called `encompasses` that takes two words and returns `True` if the first word contains the second word, but not at the beginning or the end (and `False` otherwise). For example, `hippopotomus` encompasses the word `pot`.\n",
    "\n",
    "HINT: You might find the string method `find` useful. "
   ]
  },
  {
   "cell_type": "code",
   "execution_count": 8,
   "metadata": {},
   "outputs": [
    {
     "data": {
      "text/plain": [
       "5"
      ]
     },
     "execution_count": 8,
     "metadata": {},
     "output_type": "execute_result"
    }
   ],
   "source": [
    "'hippopotomus'.find('pot')"
   ]
  },
  {
   "cell_type": "code",
   "execution_count": 9,
   "metadata": {},
   "outputs": [
    {
     "data": {
      "text/plain": [
       "-1"
      ]
     },
     "execution_count": 9,
     "metadata": {},
     "output_type": "execute_result"
    }
   ],
   "source": [
    "'hippopotomus'.find('potato')"
   ]
  },
  {
   "cell_type": "code",
   "execution_count": 10,
   "metadata": {},
   "outputs": [],
   "source": [
    "# WRITE YOUR FUNCTION HERE"
   ]
  },
  {
   "cell_type": "code",
   "execution_count": null,
   "metadata": {},
   "outputs": [],
   "source": []
  },
  {
   "cell_type": "code",
   "execution_count": null,
   "metadata": {},
   "outputs": [],
   "source": []
  },
  {
   "cell_type": "code",
   "execution_count": null,
   "metadata": {},
   "outputs": [],
   "source": []
  },
  {
   "cell_type": "markdown",
   "metadata": {},
   "source": [
    "You can use the following examples to test your function."
   ]
  },
  {
   "cell_type": "code",
   "execution_count": 11,
   "metadata": {},
   "outputs": [],
   "source": [
    "word1 = 'hippopotamus'\n",
    "word2 = 'pot'\n",
    "word3 = 'hippo'\n",
    "word4 = 'mus'\n",
    "word5 = 'potato'"
   ]
  },
  {
   "cell_type": "code",
   "execution_count": 12,
   "metadata": {},
   "outputs": [
    {
     "ename": "NameError",
     "evalue": "name 'encompasses' is not defined",
     "output_type": "error",
     "traceback": [
      "\u001b[0;31m---------------------------------------------------------------------------\u001b[0m",
      "\u001b[0;31mNameError\u001b[0m                                 Traceback (most recent call last)",
      "Cell \u001b[0;32mIn [12], line 1\u001b[0m\n\u001b[0;32m----> 1\u001b[0m encompasses(word1, word2) \u001b[39m# True\u001b[39;00m\n",
      "\u001b[0;31mNameError\u001b[0m: name 'encompasses' is not defined"
     ]
    }
   ],
   "source": [
    "encompasses(word1, word2) # True"
   ]
  },
  {
   "cell_type": "code",
   "execution_count": null,
   "metadata": {},
   "outputs": [],
   "source": [
    "encompasses(word1, word3) # False because word3 is at the beginning"
   ]
  },
  {
   "cell_type": "code",
   "execution_count": null,
   "metadata": {},
   "outputs": [],
   "source": [
    "encompasses(word1, word4) # False because word4 is at the end"
   ]
  },
  {
   "cell_type": "code",
   "execution_count": null,
   "metadata": {},
   "outputs": [],
   "source": [
    "encompasses(word1, word5) # False because word5 is not in word1"
   ]
  },
  {
   "cell_type": "markdown",
   "metadata": {},
   "source": [
    "## Question 4\n",
    "\n",
    "Two words make a \"reverse pair\" if one of them is the reverse of the other. For example, `pots` and `stop` are a reverse pair.\n",
    "\n",
    "The words in a reverse pair must be different, so `gag` and `gag` are not a reverse pair.\n",
    "\n",
    "\n",
    "Make a list of all reverse pairs in `word_list`. Each pair of words should appear only once, so if `('tons', 'snot')` is in the list, `('snot', 'tons')` should not be.\n"
   ]
  },
  {
   "cell_type": "code",
   "execution_count": null,
   "metadata": {},
   "outputs": [],
   "source": []
  },
  {
   "cell_type": "markdown",
   "metadata": {},
   "source": [
    "BONUS QUESTION JUST FOR FUN: What is the longest reverse pair in this word list?"
   ]
  },
  {
   "cell_type": "code",
   "execution_count": null,
   "metadata": {},
   "outputs": [],
   "source": []
  },
  {
   "cell_type": "code",
   "execution_count": null,
   "metadata": {},
   "outputs": [],
   "source": []
  }
 ],
 "metadata": {
  "kernelspec": {
   "display_name": "Python 3.10.5 64-bit",
   "language": "python",
   "name": "python3"
  },
  "language_info": {
   "codemirror_mode": {
    "name": "ipython",
    "version": 3
   },
   "file_extension": ".py",
   "mimetype": "text/x-python",
   "name": "python",
   "nbconvert_exporter": "python",
   "pygments_lexer": "ipython3",
   "version": "3.10.5"
  },
  "vscode": {
   "interpreter": {
    "hash": "aee8b7b246df8f9039afb4144a1f6fd8d2ca17a180786b69acc140d282b71a49"
   }
  }
 },
 "nbformat": 4,
 "nbformat_minor": 1
}
