{
 "cells": [
  {
   "cell_type": "markdown",
   "metadata": {},
   "source": [
    "# Quiz 2\n",
    "\n",
    "BEFORE YOU START THIS QUIZ:\n",
    "\n",
    "1. Click on \"Copy to Drive\" to make a copy of the quiz,\n",
    "\n",
    "2. Click on \"Share\",\n",
    "    \n",
    "3. Click on \"Change\" and select \"Anyone with this link can edit\"\n",
    "    \n",
    "4. Click \"Copy link\" and\n",
    "\n",
    "5. Paste the link into [this Canvas assignment](https://canvas.olin.edu/courses/313/assignments/4929). \n",
    "\n",
    "This quiz is open notes, open internet. The only thing you can't do is ask for help.\n",
    "\n",
    "Copyright 2021 Allen Downey, [MIT License](http://opensource.org/licenses/MIT)"
   ]
  },
  {
   "cell_type": "markdown",
   "metadata": {},
   "source": [
    "## Question 1\n",
    "\n",
    "Suppose you have a function that takes a lot of options; some are required and some are optional.\n",
    "\n",
    "Before you run the function, you might want to check that:\n",
    "\n",
    "1. All required options are provided, and\n",
    "\n",
    "2. No illegal options are provided.\n",
    "\n",
    "For example, suppose this dictionary contains the provided options and their values:"
   ]
  },
  {
   "cell_type": "code",
   "execution_count": 20,
   "metadata": {},
   "outputs": [
    {
     "data": {
      "text/plain": [
       "{'a': 1, 'b': 2}"
      ]
     },
     "execution_count": 20,
     "metadata": {},
     "output_type": "execute_result"
    }
   ],
   "source": [
    "options = dict(a=1, b=2)\n",
    "options"
   ]
  },
  {
   "cell_type": "markdown",
   "metadata": {},
   "source": [
    "And suppose that only `a` is required."
   ]
  },
  {
   "cell_type": "code",
   "execution_count": 21,
   "metadata": {},
   "outputs": [],
   "source": [
    "required = ['a'] "
   ]
  },
  {
   "cell_type": "markdown",
   "metadata": {},
   "source": [
    "And the optional arguments are `b`, and `c`:"
   ]
  },
  {
   "cell_type": "code",
   "execution_count": 22,
   "metadata": {},
   "outputs": [],
   "source": [
    "optional = ['b', 'c'] "
   ]
  },
  {
   "cell_type": "markdown",
   "metadata": {},
   "source": [
    "An option is legal if it is required or optional. All other options are illegal.\n",
    "\n",
    "Write a function called `check_options` that takes a dictionary of options and their values, a sequence of required options, and a sequence of options that are legal but not required.\n",
    "\n",
    "1. It should check that all required options are provided and, if not, print an error message that lists the ones that are missing.\n",
    "\n",
    "2. It should check that all provided options are legal and, if not, print an error message that lists the ones that are illegal.\n",
    "\n",
    "For full credit, you must use set operations when they are appropriate rather than writing `for` loops."
   ]
  },
  {
   "cell_type": "code",
   "execution_count": 8,
   "metadata": {},
   "outputs": [],
   "source": [
    "def check_options(options: dict, required: list, optional: list):\n",
    "    missingrequired = []\n",
    "    illegaloptional = []\n",
    "    for option in required:\n",
    "        if option not in options.keys():\n",
    "            missingrequired.append(option)\n",
    "    for option in options:\n",
    "        if (option not in required) and (option not in optional):\n",
    "            illegaloptional.append(option)\n",
    "    string = 'Missing: '\n",
    "    for missing in missingrequired:\n",
    "        string += f'{missingrequired}, '\n",
    "    string += \" | Illegal:\"\n",
    "    for illegal in illegaloptional:\n",
    "        string += f'{illegal},'\n",
    "    if len(string) == 20: return \"Certified!\"\n",
    "    return string"
   ]
  },
  {
   "cell_type": "code",
   "execution_count": 28,
   "metadata": {},
   "outputs": [],
   "source": [
    "def set_options(options: dict, required: list, optional: list):\n",
    "    #how can we skip using for loops?\n",
    "    #we could sort objects..., but sorting is ologn, while ours is just 5N\n",
    "    #perhaps we could convert our required and optional to sets\n",
    "    required = set(required)\n",
    "    optional = set(optional)\n",
    "    #they're both sets\n",
    "    #we can just remove any items in option from required and see if it's zero\n",
    "    #if zero, we got all of our required options\n",
    "    #vice verca for options: if any are remaning, they are illegal\n",
    "    #so how do you remove multiple items from a set?\n",
    "    #use '''SET OPERATIONS'''\n",
    "    #this requires us to... convert options to a set\n",
    "    options = set(options.keys())\n",
    "    #do options meet everything required?\n",
    "    #i forgot to set condition variables...\n",
    "    Missing = True\n",
    "    Illegal = True\n",
    "    #perform our operations - though we need a back of required for our operation\n",
    "    reqcopy = required.copy()\n",
    "    required  -= options\n",
    "    options = options - reqcopy - optional\n",
    "    if len(required) == 0: \n",
    "        Missing = False \n",
    "    if len(options) == 0:\n",
    "        Illegal = False\n",
    "    if Missing or Illegal:\n",
    "        print(f\"Missing args: {required} Illegal args: {options}\")\n",
    "    pass"
   ]
  },
  {
   "cell_type": "code",
   "execution_count": null,
   "metadata": {},
   "outputs": [],
   "source": []
  },
  {
   "cell_type": "markdown",
   "metadata": {},
   "source": [
    "The following test should display nothing because the dictionary contains all required options and no illegal ones."
   ]
  },
  {
   "cell_type": "code",
   "execution_count": 30,
   "metadata": {},
   "outputs": [],
   "source": [
    "options = dict(a=1, b=2)\n",
    "set_options(options, required, optional)"
   ]
  },
  {
   "cell_type": "markdown",
   "metadata": {},
   "source": [
    "The following test should print an error message because the dictionary is missing a required option."
   ]
  },
  {
   "cell_type": "code",
   "execution_count": 31,
   "metadata": {},
   "outputs": [
    {
     "name": "stdout",
     "output_type": "stream",
     "text": [
      "Missing args: {'a'} Illegal args: set()\n"
     ]
    }
   ],
   "source": [
    "options = dict(b=2, c=3)\n",
    "set_options(options, required, optional)"
   ]
  },
  {
   "cell_type": "markdown",
   "metadata": {},
   "source": [
    "The following test should display an error message because the dictionary contains an illegal option."
   ]
  },
  {
   "cell_type": "code",
   "execution_count": 32,
   "metadata": {},
   "outputs": [
    {
     "name": "stdout",
     "output_type": "stream",
     "text": [
      "Missing args: set() Illegal args: {'d'}\n"
     ]
    }
   ],
   "source": [
    "options = dict(a=1, b=2, d=4)\n",
    "set_options(options, required, optional)"
   ]
  },
  {
   "cell_type": "markdown",
   "metadata": {},
   "source": [
    "## Question 2\n",
    "\n",
    "The set method `symmetric_difference` operates on two sets and computes the set of elements that appear in either set but not both."
   ]
  },
  {
   "cell_type": "code",
   "execution_count": 2,
   "metadata": {},
   "outputs": [
    {
     "data": {
      "text/plain": [
       "{1, 3}"
      ]
     },
     "execution_count": 2,
     "metadata": {},
     "output_type": "execute_result"
    }
   ],
   "source": [
    "s1 = {1, 2}\n",
    "s2 = {2, 3}\n",
    "\n",
    "s1.symmetric_difference(s2)"
   ]
  },
  {
   "cell_type": "markdown",
   "metadata": {},
   "source": [
    "The symmetric difference operation is also defined for more that two sets. It computes **the set of elements that appear in an odd number of sets**.\n",
    "\n",
    "The `symmetric_difference` method can only handle two sets (unlike some of the other set methods), but you can chain the method like this:"
   ]
  },
  {
   "cell_type": "code",
   "execution_count": 3,
   "metadata": {},
   "outputs": [
    {
     "data": {
      "text/plain": [
       "{1, 4}"
      ]
     },
     "execution_count": 3,
     "metadata": {},
     "output_type": "execute_result"
    }
   ],
   "source": [
    "s3 = {3, 4}\n",
    "s1.symmetric_difference(s2).symmetric_difference(s3)"
   ]
  },
  {
   "cell_type": "markdown",
   "metadata": {},
   "source": [
    "However, for the sake of the exercise, let's suppose we don't have the set method `symmetric_difference` the equivalent `^` operator.\n",
    "\n",
    "Write a function that takes a list of sets as a parameter, computes their symmetric difference, and returns the result as a `set`."
   ]
  },
  {
   "cell_type": "code",
   "execution_count": 10,
   "metadata": {},
   "outputs": [],
   "source": [
    "def symmetric_difference(set_list: list):\n",
    "    initial_intersection = set_list[0] & set_list[1]\n",
    "    difference = (set_list[0] - initial_intersection).union(set_list[1]-initial_intersection)\n",
    "    for set_item in set_list[2:]:\n",
    "        intersect = difference & set_item\n",
    "        difference = (set_item-intersect).union(difference-intersect)\n",
    "    return difference"
   ]
  },
  {
   "cell_type": "code",
   "execution_count": 11,
   "metadata": {},
   "outputs": [
    {
     "data": {
      "text/plain": [
       "{2, 3}"
      ]
     },
     "execution_count": 11,
     "metadata": {},
     "output_type": "execute_result"
    }
   ],
   "source": [
    "s2"
   ]
  },
  {
   "cell_type": "markdown",
   "metadata": {},
   "source": [
    "Use the following tests to check your function."
   ]
  },
  {
   "cell_type": "code",
   "execution_count": 12,
   "metadata": {},
   "outputs": [
    {
     "data": {
      "text/plain": [
       "{1, 3}"
      ]
     },
     "execution_count": 12,
     "metadata": {},
     "output_type": "execute_result"
    }
   ],
   "source": [
    "symmetric_difference([s1, s2])    # should be {1, 3}"
   ]
  },
  {
   "cell_type": "code",
   "execution_count": 13,
   "metadata": {},
   "outputs": [
    {
     "data": {
      "text/plain": [
       "{2, 4}"
      ]
     },
     "execution_count": 13,
     "metadata": {},
     "output_type": "execute_result"
    }
   ],
   "source": [
    "symmetric_difference([s2, s3])     # should be {2, 4}"
   ]
  },
  {
   "cell_type": "code",
   "execution_count": 14,
   "metadata": {},
   "outputs": [
    {
     "data": {
      "text/plain": [
       "{1, 4}"
      ]
     },
     "execution_count": 14,
     "metadata": {},
     "output_type": "execute_result"
    }
   ],
   "source": [
    "symmetric_difference([s1, s2, s3]) # should be {1, 4}"
   ]
  },
  {
   "cell_type": "code",
   "execution_count": null,
   "metadata": {},
   "outputs": [],
   "source": []
  },
  {
   "cell_type": "code",
   "execution_count": null,
   "metadata": {},
   "outputs": [],
   "source": []
  },
  {
   "cell_type": "code",
   "execution_count": null,
   "metadata": {},
   "outputs": [],
   "source": []
  },
  {
   "cell_type": "code",
   "execution_count": null,
   "metadata": {},
   "outputs": [],
   "source": []
  },
  {
   "cell_type": "code",
   "execution_count": null,
   "metadata": {},
   "outputs": [],
   "source": []
  },
  {
   "cell_type": "markdown",
   "metadata": {},
   "source": [
    "## Question 3\n",
    "\n",
    "Write a generator function called `evens_and_odds` that takes a list of integers and yields:\n",
    "\n",
    "* All of the elements of the list that are even, followed by\n",
    "\n",
    "* All of the elements of the list that are odd.\n",
    "\n",
    "For example, if the list is `[1, 2, 4, 7]`, the sequence of values generated should be `2, 4, 1, 7`."
   ]
  },
  {
   "cell_type": "code",
   "execution_count": 15,
   "metadata": {},
   "outputs": [],
   "source": [
    "def evens_and_odds(integrs: list):\n",
    "    for intgr in sorted(integrs, key= lambda x: x%2):\n",
    "        yield intgr"
   ]
  },
  {
   "cell_type": "markdown",
   "metadata": {},
   "source": [
    "Use this example to test your function."
   ]
  },
  {
   "cell_type": "code",
   "execution_count": 16,
   "metadata": {},
   "outputs": [
    {
     "name": "stdout",
     "output_type": "stream",
     "text": [
      "2\n",
      "4\n",
      "1\n",
      "7\n"
     ]
    }
   ],
   "source": [
    "t = [1, 2, 4, 7]\n",
    "\n",
    "for x in evens_and_odds(t):\n",
    "    print(x)"
   ]
  },
  {
   "cell_type": "markdown",
   "metadata": {},
   "source": [
    "As a challenge, JUST FOR FUN, write a version of this function that works if the argument is an iterator that you can only iterate once."
   ]
  },
  {
   "cell_type": "code",
   "execution_count": 17,
   "metadata": {},
   "outputs": [],
   "source": [
    "def even_and_odd2(intgrs):\n",
    "    input_type = type(intgrs)\n",
    "    if type == list: return evens_and_odds(intgrs)\n",
    "    else:\n",
    "        shortcut_list = []\n",
    "        for intgr in intgrs:\n",
    "            shortcut_list.append(intgr)\n",
    "        return evens_and_odds(shortcut_list)\n"
   ]
  },
  {
   "cell_type": "code",
   "execution_count": 22,
   "metadata": {},
   "outputs": [],
   "source": [
    "def easy_it():\n",
    "    for n in range(4): \n",
    "        yield n\n",
    "a_itr = easy_it()"
   ]
  },
  {
   "cell_type": "code",
   "execution_count": 23,
   "metadata": {},
   "outputs": [
    {
     "name": "stdout",
     "output_type": "stream",
     "text": [
      "0\n",
      "2\n",
      "1\n",
      "3\n"
     ]
    }
   ],
   "source": [
    "for i in even_and_odd2(easy_it()): print(i)"
   ]
  },
  {
   "cell_type": "markdown",
   "metadata": {},
   "source": [
    "## Question 4\n",
    "\n",
    "The following string contains the lyrics of a [well-known song](https://youtu.be/dQw4w9WgXcQ?t=43)."
   ]
  },
  {
   "cell_type": "code",
   "execution_count": null,
   "metadata": {},
   "outputs": [],
   "source": [
    "lyrics = \"\"\"\n",
    "Never gonna give you up\n",
    "Never gonna let you down\n",
    "Never gonna run around and desert you\n",
    "Never gonna make you cry\n",
    "Never gonna say goodbye\n",
    "Never gonna tell a lie and hurt you \n",
    "\"\"\""
   ]
  },
  {
   "cell_type": "markdown",
   "metadata": {},
   "source": [
    "The following generator function yields the words in `lyrics` one at a time."
   ]
  },
  {
   "cell_type": "code",
   "execution_count": null,
   "metadata": {},
   "outputs": [],
   "source": [
    "def generate_lyrics(lyrics):\n",
    "    for word in lyrics.split():\n",
    "        yield word"
   ]
  },
  {
   "cell_type": "markdown",
   "metadata": {},
   "source": [
    "Write a few lines of code that use `generate_lyrics` to iterate through the words **only once** and build a dictionary that maps from each word to the set of words that follow it.\n",
    "\n",
    "For example, the first two entries in the dictionary should be\n",
    "\n",
    "```\n",
    "{'Never': {'gonna'},\n",
    " 'gonna': {'give', 'let', 'make', 'run', 'say', 'tell'},\n",
    " ...\n",
    "```\n",
    "\n",
    "because in `lyrics`, the word \"Never\" is always followed by \"gonna\", and the word \"gonna\" is followed by six different words."
   ]
  },
  {
   "cell_type": "code",
   "execution_count": null,
   "metadata": {},
   "outputs": [],
   "source": []
  },
  {
   "cell_type": "code",
   "execution_count": null,
   "metadata": {},
   "outputs": [],
   "source": []
  },
  {
   "cell_type": "code",
   "execution_count": null,
   "metadata": {},
   "outputs": [],
   "source": []
  },
  {
   "cell_type": "code",
   "execution_count": null,
   "metadata": {},
   "outputs": [],
   "source": []
  }
 ],
 "metadata": {
  "kernelspec": {
   "display_name": "Python 3",
   "language": "python",
   "name": "python3"
  },
  "language_info": {
   "codemirror_mode": {
    "name": "ipython",
    "version": 3
   },
   "file_extension": ".py",
   "mimetype": "text/x-python",
   "name": "python",
   "nbconvert_exporter": "python",
   "pygments_lexer": "ipython3",
   "version": "3.10.5"
  },
  "vscode": {
   "interpreter": {
    "hash": "aee8b7b246df8f9039afb4144a1f6fd8d2ca17a180786b69acc140d282b71a49"
   }
  }
 },
 "nbformat": 4,
 "nbformat_minor": 1
}
